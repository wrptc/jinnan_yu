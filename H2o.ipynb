{
 "cells": [
  {
   "cell_type": "code",
   "execution_count": 1,
   "metadata": {},
   "outputs": [
    {
     "data": {
      "text/html": [
       "<script type=\"text/javascript\">window.PlotlyConfig = {MathJaxConfig: 'local'};</script><script type=\"text/javascript\">if (window.MathJax) {MathJax.Hub.Config({SVG: {font: \"STIX-Web\"}});}</script><script>requirejs.config({paths: { 'plotly': ['https://cdn.plot.ly/plotly-latest.min']},});if(!window._Plotly) {require(['plotly'],function(plotly) {window._Plotly=plotly;});}</script>"
      ],
      "text/vnd.plotly.v1+html": [
       "<script type=\"text/javascript\">window.PlotlyConfig = {MathJaxConfig: 'local'};</script><script type=\"text/javascript\">if (window.MathJax) {MathJax.Hub.Config({SVG: {font: \"STIX-Web\"}});}</script><script>requirejs.config({paths: { 'plotly': ['https://cdn.plot.ly/plotly-latest.min']},});if(!window._Plotly) {require(['plotly'],function(plotly) {window._Plotly=plotly;});}</script>"
      ]
     },
     "metadata": {},
     "output_type": "display_data"
    }
   ],
   "source": [
    "import numpy as np \n",
    "import pandas as pd \n",
    "import lightgbm as lgb\n",
    "import xgboost as xgb\n",
    "# from catboost import CatBoostRegressor\n",
    "from sklearn.linear_model import BayesianRidge\n",
    "from sklearn.model_selection import KFold, RepeatedKFold\n",
    "from sklearn.preprocessing import OneHotEncoder, LabelEncoder\n",
    "from sklearn.ensemble import RandomForestClassifier\n",
    "from scipy import sparse\n",
    "import warnings\n",
    "import time\n",
    "import sys\n",
    "import os\n",
    "import re\n",
    "import datetime\n",
    "import matplotlib.pyplot as plt\n",
    "import seaborn as sns\n",
    "import plotly.offline as py\n",
    "py.init_notebook_mode(connected=True)\n",
    "import plotly.graph_objs as go\n",
    "import plotly.tools as tls\n",
    "from sklearn.metrics import mean_squared_error\n",
    "from sklearn.metrics import log_loss\n",
    "warnings.simplefilter(action='ignore', category=FutureWarning)\n",
    "warnings.filterwarnings(\"ignore\")\n",
    "pd.set_option('display.max_columns',None)\n",
    "pd.set_option('max_colwidth',100)"
   ]
  },
  {
   "cell_type": "code",
   "execution_count": 2,
   "metadata": {},
   "outputs": [],
   "source": [
    "train = pd.read_csv('jinnan_round1_train_20181227.csv', encoding = 'gb18030')\n",
    "test  = pd.read_csv('jinnan_round1_testA_20181227.csv', encoding = 'gb18030')"
   ]
  },
  {
   "cell_type": "code",
   "execution_count": 3,
   "metadata": {},
   "outputs": [],
   "source": [
    "for df in [train, test]:\n",
    "    df.drop(['B3', 'B13', 'A13', 'A18', 'A23'], axis=1, inplace=True)"
   ]
  },
  {
   "cell_type": "code",
   "execution_count": 4,
   "metadata": {},
   "outputs": [],
   "source": [
    "good_cols = list(train.columns)\n",
    "# for col in train.columns:\n",
    "#     rate = train[col].value_counts(normalize=True, dropna=False).values[0]\n",
    "#     if rate > 0.9:\n",
    "#         good_cols.remove(col)\n",
    "#         print(col,rate)\n",
    "\n",
    "train = train[train['收率']>0.865]\n",
    "        \n",
    "train = train[good_cols]\n",
    "good_cols.remove('收率')\n",
    "test  = test[good_cols]\n",
    "ori_train = train"
   ]
  },
  {
   "cell_type": "code",
   "execution_count": 5,
   "metadata": {},
   "outputs": [],
   "source": [
    "target = train['收率']\n",
    "del train['收率']\n",
    "data = pd.concat([train,test],axis=0,ignore_index=True)\n",
    "data = data.fillna(-1)"
   ]
  },
  {
   "cell_type": "code",
   "execution_count": 6,
   "metadata": {},
   "outputs": [],
   "source": [
    "def timeTranSecond(t):\n",
    "    try:\n",
    "        t,m,s=t.split(\":\")\n",
    "    except:\n",
    "        if t=='1900/1/9 7:00':\n",
    "            return 7*3600/3600\n",
    "        elif t=='1900/1/1 2:30':\n",
    "            return (2*3600+30*60)/3600\n",
    "        elif t==-1:\n",
    "            return -1\n",
    "        else:\n",
    "            return 0\n",
    "    \n",
    "    try:\n",
    "        tm = (int(t)*3600+int(m)*60+int(s))/3600\n",
    "    except:\n",
    "        return (30*60)/3600\n",
    "    \n",
    "    return tm\n",
    "for f in ['A5','A7','A9','A11','A14','A16','A24','A26','B5','B7']:\n",
    "    data[f] = data[f].apply(timeTranSecond)\n",
    "\n",
    "def getDuration(se):\n",
    "    try:\n",
    "        sh,sm,eh,em=re.findall(r\"\\d+\\.?\\d*\",se)\n",
    "    except:\n",
    "        if se == -1:\n",
    "            return -1 \n",
    "        \n",
    "    try:\n",
    "        if int(sh)>int(eh):\n",
    "            tm = (int(eh)*3600+int(em)*60-int(sm)*60-int(sh)*3600)/3600 + 24\n",
    "        else:\n",
    "            tm = (int(eh)*3600+int(em)*60-int(sm)*60-int(sh)*3600)/3600\n",
    "    except:\n",
    "        if se=='19:-20:05':\n",
    "            return 1\n",
    "        elif se=='15:00-1600':\n",
    "            return 1\n",
    "    \n",
    "    return tm\n",
    "\n",
    "def get_start(se):\n",
    "    try:\n",
    "        sh, sm, eh, em = re.findall(r'\\d+\\.?d*', se)\n",
    "    except:\n",
    "        if se == -1:\n",
    "            return -1\n",
    "    try:\n",
    "        tm = (int(eh) * 3600 + int(em) * 60)/3600\n",
    "    except:\n",
    "        if se == '19:-20:05':\n",
    "            return 19\n",
    "        elif se == '15:00-1600':\n",
    "            return 15\n",
    "    return tm\n",
    "for f in ['A20','A28','B4','B9','B10','B11']:\n",
    "    data[f+'_diff'] = data.apply(lambda df: getDuration(df[f]), axis=1)\n",
    "for f in ['A20','A28','B4','B9','B10','B11']:\n",
    "    data[f] = data.apply(lambda df: get_start(df[f]), axis=1)"
   ]
  },
  {
   "cell_type": "code",
   "execution_count": 7,
   "metadata": {},
   "outputs": [],
   "source": [
    "data['样本id'] = data['样本id'].apply(lambda x: int(x.split('_')[1]))\n",
    "\n",
    "categorical_columns = [f for f in data.columns if f not in ['样本id']]\n",
    "numerical_columns = [f for f in data.columns if f not in categorical_columns]"
   ]
  },
  {
   "cell_type": "code",
   "execution_count": 8,
   "metadata": {},
   "outputs": [
    {
     "name": "stdout",
     "output_type": "stream",
     "text": [
      "(1389, 44)\n",
      "(150, 44)\n"
     ]
    }
   ],
   "source": [
    "for f in categorical_columns:\n",
    "    data[f] = data[f].map(dict(zip(data[f].unique(), range(0, data[f].nunique()))))\n",
    "train = data[:train.shape[0]]\n",
    "test  = data[train.shape[0]:]\n",
    "print(train.shape)\n",
    "print(test.shape)"
   ]
  },
  {
   "cell_type": "code",
   "execution_count": 9,
   "metadata": {},
   "outputs": [
    {
     "name": "stdout",
     "output_type": "stream",
     "text": [
      "(1389, 149)\n",
      "(150, 149)\n"
     ]
    }
   ],
   "source": [
    "train['target'] = target\n",
    "train['intTarget'] = pd.cut(train['target'], 5, labels=False)\n",
    "train = pd.get_dummies(train, columns=['intTarget'])\n",
    "li = ['intTarget_0.0','intTarget_1.0','intTarget_2.0','intTarget_3.0','intTarget_4.0']\n",
    "mean_columns = []\n",
    "for f1 in categorical_columns:\n",
    "    cate_rate = train[f1].value_counts(normalize=True, dropna=False).values[0]\n",
    "    if cate_rate < 0.90:\n",
    "        for f2 in li:\n",
    "            col_name = 'B14_to_'+f1+\"_\"+f2+'_mean'\n",
    "            mean_columns.append(col_name)\n",
    "            order_label = train.groupby([f1])[f2].mean()\n",
    "            train[col_name] = train['B14'].map(order_label)\n",
    "            miss_rate = train[col_name].isnull().sum() * 100 / train[col_name].shape[0]\n",
    "            if miss_rate > 0:\n",
    "                train = train.drop([col_name], axis=1)\n",
    "                mean_columns.remove(col_name)\n",
    "            else:\n",
    "                test[col_name] = test['B14'].map(order_label)\n",
    "                \n",
    "train.drop(li+['target'], axis=1, inplace=True)\n",
    "print(train.shape)\n",
    "print(test.shape)"
   ]
  },
  {
   "cell_type": "code",
   "execution_count": 10,
   "metadata": {},
   "outputs": [],
   "source": [
    "X_train = train[mean_columns+numerical_columns].values\n",
    "X_test = test[mean_columns+numerical_columns].values"
   ]
  },
  {
   "cell_type": "code",
   "execution_count": 11,
   "metadata": {},
   "outputs": [
    {
     "name": "stdout",
     "output_type": "stream",
     "text": [
      "(1389, 1707)\n",
      "(150, 1707)\n"
     ]
    }
   ],
   "source": [
    "# one hot\n",
    "enc = OneHotEncoder()\n",
    "for f in categorical_columns:\n",
    "    enc.fit(data[f].values.reshape(-1, 1))\n",
    "    X_train = sparse.hstack((X_train, enc.transform(train[f].values.reshape(-1, 1))), 'csr')\n",
    "    X_test = sparse.hstack((X_test, enc.transform(test[f].values.reshape(-1, 1))), 'csr')\n",
    "print(X_train.shape)\n",
    "print(X_test.shape)"
   ]
  },
  {
   "cell_type": "code",
   "execution_count": 12,
   "metadata": {},
   "outputs": [],
   "source": [
    "y_train = target.values"
   ]
  },
  {
   "cell_type": "code",
   "execution_count": 13,
   "metadata": {},
   "outputs": [],
   "source": [
    "import h2o\n",
    "from h2o.automl import H2OAutoML"
   ]
  },
  {
   "cell_type": "code",
   "execution_count": 14,
   "metadata": {},
   "outputs": [
    {
     "name": "stdout",
     "output_type": "stream",
     "text": [
      "Checking whether there is an H2O instance running at http://localhost:54321..... not found.\n",
      "Attempting to start a local H2O server...\n",
      "  Java Version: openjdk version \"1.8.0_191\"; OpenJDK Runtime Environment (build 1.8.0_191-8u191-b12-0ubuntu0.16.04.1-b12); OpenJDK 64-Bit Server VM (build 25.191-b12, mixed mode)\n",
      "  Starting server from /home/wangruipeng/anaconda3/lib/python3.7/site-packages/h2o/backend/bin/h2o.jar\n",
      "  Ice root: /tmp/tmp1o7o0xn0\n",
      "  JVM stdout: /tmp/tmp1o7o0xn0/h2o_wangruipeng_started_from_python.out\n",
      "  JVM stderr: /tmp/tmp1o7o0xn0/h2o_wangruipeng_started_from_python.err\n",
      "  Server is running at http://127.0.0.1:54321\n",
      "Connecting to H2O server at http://127.0.0.1:54321... successful.\n"
     ]
    },
    {
     "data": {
      "text/html": [
       "<div style=\"overflow:auto\"><table style=\"width:50%\"><tr><td>H2O cluster uptime:</td>\n",
       "<td>00 secs</td></tr>\n",
       "<tr><td>H2O cluster timezone:</td>\n",
       "<td>America/New_York</td></tr>\n",
       "<tr><td>H2O data parsing timezone:</td>\n",
       "<td>UTC</td></tr>\n",
       "<tr><td>H2O cluster version:</td>\n",
       "<td>3.22.1.1</td></tr>\n",
       "<tr><td>H2O cluster version age:</td>\n",
       "<td>13 days </td></tr>\n",
       "<tr><td>H2O cluster name:</td>\n",
       "<td>H2O_from_python_wangruipeng_vhnulu</td></tr>\n",
       "<tr><td>H2O cluster total nodes:</td>\n",
       "<td>1</td></tr>\n",
       "<tr><td>H2O cluster free memory:</td>\n",
       "<td>14.22 Gb</td></tr>\n",
       "<tr><td>H2O cluster total cores:</td>\n",
       "<td>4</td></tr>\n",
       "<tr><td>H2O cluster allowed cores:</td>\n",
       "<td>4</td></tr>\n",
       "<tr><td>H2O cluster status:</td>\n",
       "<td>accepting new members, healthy</td></tr>\n",
       "<tr><td>H2O connection url:</td>\n",
       "<td>http://127.0.0.1:54321</td></tr>\n",
       "<tr><td>H2O connection proxy:</td>\n",
       "<td>None</td></tr>\n",
       "<tr><td>H2O internal security:</td>\n",
       "<td>False</td></tr>\n",
       "<tr><td>H2O API Extensions:</td>\n",
       "<td>XGBoost, Algos, AutoML, Core V3, Core V4</td></tr>\n",
       "<tr><td>Python version:</td>\n",
       "<td>3.7.1 final</td></tr></table></div>"
      ],
      "text/plain": [
       "--------------------------  ----------------------------------------\n",
       "H2O cluster uptime:         00 secs\n",
       "H2O cluster timezone:       America/New_York\n",
       "H2O data parsing timezone:  UTC\n",
       "H2O cluster version:        3.22.1.1\n",
       "H2O cluster version age:    13 days\n",
       "H2O cluster name:           H2O_from_python_wangruipeng_vhnulu\n",
       "H2O cluster total nodes:    1\n",
       "H2O cluster free memory:    14.22 Gb\n",
       "H2O cluster total cores:    4\n",
       "H2O cluster allowed cores:  4\n",
       "H2O cluster status:         accepting new members, healthy\n",
       "H2O connection url:         http://127.0.0.1:54321\n",
       "H2O connection proxy:\n",
       "H2O internal security:      False\n",
       "H2O API Extensions:         XGBoost, Algos, AutoML, Core V3, Core V4\n",
       "Python version:             3.7.1 final\n",
       "--------------------------  ----------------------------------------"
      ]
     },
     "metadata": {},
     "output_type": "display_data"
    }
   ],
   "source": [
    "h2o.init(max_mem_size='16G')"
   ]
  },
  {
   "cell_type": "code",
   "execution_count": 15,
   "metadata": {},
   "outputs": [],
   "source": [
    "train = pd.DataFrame(X_train.toarray())\n",
    "train['target'] = y_train"
   ]
  },
  {
   "cell_type": "code",
   "execution_count": 16,
   "metadata": {},
   "outputs": [],
   "source": [
    "test = pd.DataFrame(X_test.toarray())"
   ]
  },
  {
   "cell_type": "code",
   "execution_count": 17,
   "metadata": {},
   "outputs": [],
   "source": [
    "train.to_csv('train.csv', encoding='utf-8', index=None, header=False)\n",
    "test.to_csv('test.csv', encoding='utf-8', index=None,header=False)"
   ]
  },
  {
   "cell_type": "code",
   "execution_count": 18,
   "metadata": {
    "scrolled": true
   },
   "outputs": [
    {
     "name": "stdout",
     "output_type": "stream",
     "text": [
      "Parse progress: |█████████████████████████████████████████████████████████| 100%\n",
      "Parse progress: |█████████████████████████████████████████████████████████| 100%\n"
     ]
    }
   ],
   "source": [
    "train = h2o.upload_file(\"train.csv\")\n",
    "test = h2o.upload_file(\"test.csv\")"
   ]
  },
  {
   "cell_type": "code",
   "execution_count": 19,
   "metadata": {},
   "outputs": [],
   "source": [
    "feature_name = [i for i in train.columns if i not in ['C1708']]\n",
    "x = feature_name\n",
    "y = 'C1708'"
   ]
  },
  {
   "cell_type": "code",
   "execution_count": 20,
   "metadata": {},
   "outputs": [
    {
     "name": "stdout",
     "output_type": "stream",
     "text": [
      "AutoML progress: |████████████████████████████████████████████████████████| 100%\n"
     ]
    }
   ],
   "source": [
    "aml = H2OAutoML(max_models=20, seed=666, max_runtime_secs=12800)\n",
    "#aml.train(x=X_train, y=y_train)\n",
    "aml.train(x=x, y=y, training_frame=train)"
   ]
  },
  {
   "cell_type": "code",
   "execution_count": 21,
   "metadata": {},
   "outputs": [
    {
     "data": {
      "text/html": [
       "<table>\n",
       "<thead>\n",
       "<tr><th>model_id                                           </th><th style=\"text-align: right;\">  mean_residual_deviance</th><th style=\"text-align: right;\">     rmse</th><th style=\"text-align: right;\">        mse</th><th style=\"text-align: right;\">       mae</th><th style=\"text-align: right;\">     rmsle</th></tr>\n",
       "</thead>\n",
       "<tbody>\n",
       "<tr><td>StackedEnsemble_BestOfFamily_AutoML_20190111_053558</td><td style=\"text-align: right;\">             0.000128704</td><td style=\"text-align: right;\">0.0113448</td><td style=\"text-align: right;\">0.000128704</td><td style=\"text-align: right;\">0.0082868 </td><td style=\"text-align: right;\">0.00589282</td></tr>\n",
       "<tr><td>StackedEnsemble_AllModels_AutoML_20190111_053558   </td><td style=\"text-align: right;\">             0.000129099</td><td style=\"text-align: right;\">0.0113622</td><td style=\"text-align: right;\">0.000129099</td><td style=\"text-align: right;\">0.00827374</td><td style=\"text-align: right;\">0.00590145</td></tr>\n",
       "<tr><td>XGBoost_3_AutoML_20190111_053558                   </td><td style=\"text-align: right;\">             0.000129562</td><td style=\"text-align: right;\">0.0113825</td><td style=\"text-align: right;\">0.000129562</td><td style=\"text-align: right;\">0.00828565</td><td style=\"text-align: right;\">0.00591162</td></tr>\n",
       "<tr><td>XGBoost_2_AutoML_20190111_053558                   </td><td style=\"text-align: right;\">             0.000131582</td><td style=\"text-align: right;\">0.0114709</td><td style=\"text-align: right;\">0.000131582</td><td style=\"text-align: right;\">0.00828806</td><td style=\"text-align: right;\">0.00595647</td></tr>\n",
       "<tr><td>GBM_3_AutoML_20190111_053558                       </td><td style=\"text-align: right;\">             0.000133353</td><td style=\"text-align: right;\">0.0115479</td><td style=\"text-align: right;\">0.000133353</td><td style=\"text-align: right;\">0.00845132</td><td style=\"text-align: right;\">0.00599837</td></tr>\n",
       "<tr><td>GBM_2_AutoML_20190111_053558                       </td><td style=\"text-align: right;\">             0.000134199</td><td style=\"text-align: right;\">0.0115844</td><td style=\"text-align: right;\">0.000134199</td><td style=\"text-align: right;\">0.00849163</td><td style=\"text-align: right;\">0.00601674</td></tr>\n",
       "<tr><td>GBM_4_AutoML_20190111_053558                       </td><td style=\"text-align: right;\">             0.000134595</td><td style=\"text-align: right;\">0.0116015</td><td style=\"text-align: right;\">0.000134595</td><td style=\"text-align: right;\">0.0084769 </td><td style=\"text-align: right;\">0.00602591</td></tr>\n",
       "<tr><td>XGBoost_1_AutoML_20190111_053558                   </td><td style=\"text-align: right;\">             0.000135969</td><td style=\"text-align: right;\">0.0116606</td><td style=\"text-align: right;\">0.000135969</td><td style=\"text-align: right;\">0.00852281</td><td style=\"text-align: right;\">0.00605163</td></tr>\n",
       "<tr><td>GBM_grid_1_AutoML_20190111_053558_model_1          </td><td style=\"text-align: right;\">             0.000136228</td><td style=\"text-align: right;\">0.0116717</td><td style=\"text-align: right;\">0.000136228</td><td style=\"text-align: right;\">0.00854717</td><td style=\"text-align: right;\">0.00606143</td></tr>\n",
       "<tr><td>GBM_1_AutoML_20190111_053558                       </td><td style=\"text-align: right;\">             0.000141004</td><td style=\"text-align: right;\">0.0118745</td><td style=\"text-align: right;\">0.000141004</td><td style=\"text-align: right;\">0.00878137</td><td style=\"text-align: right;\">0.00616315</td></tr>\n",
       "<tr><td>XGBoost_grid_1_AutoML_20190111_053558_model_4      </td><td style=\"text-align: right;\">             0.000148217</td><td style=\"text-align: right;\">0.0121744</td><td style=\"text-align: right;\">0.000148217</td><td style=\"text-align: right;\">0.00869205</td><td style=\"text-align: right;\">0.0063223 </td></tr>\n",
       "<tr><td>XRT_1_AutoML_20190111_053558                       </td><td style=\"text-align: right;\">             0.000150382</td><td style=\"text-align: right;\">0.012263 </td><td style=\"text-align: right;\">0.000150382</td><td style=\"text-align: right;\">0.00881377</td><td style=\"text-align: right;\">0.0063638 </td></tr>\n",
       "<tr><td>DRF_1_AutoML_20190111_053558                       </td><td style=\"text-align: right;\">             0.000152464</td><td style=\"text-align: right;\">0.0123476</td><td style=\"text-align: right;\">0.000152464</td><td style=\"text-align: right;\">0.00887358</td><td style=\"text-align: right;\">0.00640927</td></tr>\n",
       "<tr><td>DeepLearning_grid_1_AutoML_20190111_053558_model_2 </td><td style=\"text-align: right;\">             0.000214907</td><td style=\"text-align: right;\">0.0146597</td><td style=\"text-align: right;\">0.000214907</td><td style=\"text-align: right;\">0.0107363 </td><td style=\"text-align: right;\">0.00760688</td></tr>\n",
       "<tr><td>GBM_5_AutoML_20190111_053558                       </td><td style=\"text-align: right;\">             0.000227873</td><td style=\"text-align: right;\">0.0150955</td><td style=\"text-align: right;\">0.000227873</td><td style=\"text-align: right;\">0.0114999 </td><td style=\"text-align: right;\">0.00782367</td></tr>\n",
       "<tr><td>XGBoost_grid_1_AutoML_20190111_053558_model_1      </td><td style=\"text-align: right;\">             0.000230724</td><td style=\"text-align: right;\">0.0151896</td><td style=\"text-align: right;\">0.000230724</td><td style=\"text-align: right;\">0.0113812 </td><td style=\"text-align: right;\">0.00786066</td></tr>\n",
       "<tr><td>GBM_grid_1_AutoML_20190111_053558_model_2          </td><td style=\"text-align: right;\">             0.000246456</td><td style=\"text-align: right;\">0.0156989</td><td style=\"text-align: right;\">0.000246456</td><td style=\"text-align: right;\">0.0120604 </td><td style=\"text-align: right;\">0.00813386</td></tr>\n",
       "<tr><td>GLM_grid_1_AutoML_20190111_053558_model_1          </td><td style=\"text-align: right;\">             0.000262354</td><td style=\"text-align: right;\">0.0161973</td><td style=\"text-align: right;\">0.000262354</td><td style=\"text-align: right;\">0.0122601 </td><td style=\"text-align: right;\">0.00839855</td></tr>\n",
       "<tr><td>DeepLearning_grid_1_AutoML_20190111_053558_model_1 </td><td style=\"text-align: right;\">             0.000267781</td><td style=\"text-align: right;\">0.016364 </td><td style=\"text-align: right;\">0.000267781</td><td style=\"text-align: right;\">0.0122153 </td><td style=\"text-align: right;\">0.00849357</td></tr>\n",
       "<tr><td>DeepLearning_1_AutoML_20190111_053558              </td><td style=\"text-align: right;\">             0.000271385</td><td style=\"text-align: right;\">0.0164738</td><td style=\"text-align: right;\">0.000271385</td><td style=\"text-align: right;\">0.0121068 </td><td style=\"text-align: right;\">0.00855639</td></tr>\n",
       "<tr><td>XGBoost_grid_1_AutoML_20190111_053558_model_3      </td><td style=\"text-align: right;\">             0.0133606  </td><td style=\"text-align: right;\">0.115588 </td><td style=\"text-align: right;\">0.0133606  </td><td style=\"text-align: right;\">0.0403659 </td><td style=\"text-align: right;\">0.0677256 </td></tr>\n",
       "<tr><td>XGBoost_grid_1_AutoML_20190111_053558_model_2      </td><td style=\"text-align: right;\">             0.0266806  </td><td style=\"text-align: right;\">0.163342 </td><td style=\"text-align: right;\">0.0266806  </td><td style=\"text-align: right;\">0.0716045 </td><td style=\"text-align: right;\">0.0957509 </td></tr>\n",
       "</tbody>\n",
       "</table>"
      ]
     },
     "metadata": {},
     "output_type": "display_data"
    },
    {
     "data": {
      "text/plain": []
     },
     "execution_count": 21,
     "metadata": {},
     "output_type": "execute_result"
    }
   ],
   "source": [
    "lb = aml.leaderboard\n",
    "lb.head(rows=lb.nrows)"
   ]
  },
  {
   "cell_type": "code",
   "execution_count": 22,
   "metadata": {},
   "outputs": [
    {
     "name": "stdout",
     "output_type": "stream",
     "text": [
      "stackedensemble prediction progress: |████████████████████████████████████| 100%\n"
     ]
    }
   ],
   "source": [
    "oof_h2o = aml.predict(train[:,:-1]).as_data_frame().values.flatten()"
   ]
  },
  {
   "cell_type": "code",
   "execution_count": 23,
   "metadata": {},
   "outputs": [],
   "source": [
    "pd.Series(oof_h2o).to_csv('oof_h2o.csv', index=False, header=None)"
   ]
  },
  {
   "cell_type": "code",
   "execution_count": 24,
   "metadata": {},
   "outputs": [
    {
     "name": "stdout",
     "output_type": "stream",
     "text": [
      "stackedensemble prediction progress: |████████████████████████████████████| 100%\n"
     ]
    }
   ],
   "source": [
    "automl_predictions = aml.predict(test).as_data_frame().values.flatten()"
   ]
  },
  {
   "cell_type": "code",
   "execution_count": 25,
   "metadata": {},
   "outputs": [],
   "source": [
    "pd.Series(automl_predictions).to_csv('predictions_h2o.csv', index=False, header=None)"
   ]
  },
  {
   "cell_type": "code",
   "execution_count": null,
   "metadata": {},
   "outputs": [],
   "source": []
  }
 ],
 "metadata": {
  "kernelspec": {
   "display_name": "Python 3",
   "language": "python",
   "name": "python3"
  },
  "language_info": {
   "codemirror_mode": {
    "name": "ipython",
    "version": 3
   },
   "file_extension": ".py",
   "mimetype": "text/x-python",
   "name": "python",
   "nbconvert_exporter": "python",
   "pygments_lexer": "ipython3",
   "version": "3.7.1"
  }
 },
 "nbformat": 4,
 "nbformat_minor": 2
}
